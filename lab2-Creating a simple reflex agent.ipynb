{
 "cells": [
  {
   "cell_type": "markdown",
   "metadata": {},
   "source": [
    "### Notes\n",
    "\n",
    "- Rationality : refers to making decisions or taking actions that are most likely to achieve your goals or objectives. It involves choosing the best course of action based on available information and reasoning, with the aim of maximizing the likelihood of achieving desired outcomes\n",
    "\n",
    "- Simple reflex agents works in fully observable environment"
   ]
  },
  {
   "cell_type": "markdown",
   "metadata": {},
   "source": [
    "### Name : Muhammad Talha\n",
    "### ID : p200015\n",
    "### Lab Task 2 "
   ]
  },
  {
   "cell_type": "markdown",
   "metadata": {},
   "source": [
    "# Task 1"
   ]
  },
  {
   "cell_type": "code",
   "execution_count": 16,
   "metadata": {},
   "outputs": [
    {
     "name": "stdout",
     "output_type": "stream",
     "text": [
      "No signs of fire detected. System remains in normal state.\n"
     ]
    }
   ],
   "source": [
    "\n",
    "\n",
    "def getState(percept_value):\n",
    "    if percept_value == \"Smoke detected\":\n",
    "        return \"Smoke\"\n",
    "    elif percept_value == \"High temperature\":\n",
    "        return \"High_temp\"\n",
    "    else:\n",
    "        return \"Normal\"\n",
    "\n",
    "def getRules(state_value):\n",
    "    if state_value == \"Smoke\":\n",
    "        return \"Sound_alarm, activate_sprinkler\"\n",
    "    elif state_value == \"High_temp\":\n",
    "        return \"Sound_alarm, call_fire_department\"\n",
    "    else:\n",
    "        return \"No_action\"\n",
    "\n",
    "def simpleReflexAgent(percep):\n",
    "    state = getState(percep)\n",
    "    rule = getRules(state)\n",
    "    return rule\n",
    "\n",
    "\n",
    "\n",
    "count = 0\n",
    "\n",
    "percept_values = [\"Smoke detected\", \"No smoke\", \"High temperature\", \"Normal temperature\"]\n",
    "\n",
    "while count < 3 :  # testing for 3 inputs \n",
    "    \n",
    "    value = int(input(\"Enter percept : \\n  0 for smoke \\n | 1 for no smoke | 2 for High temperature \\n | 3 for Normal Temperature \\n\"))\n",
    "    percept = percept_values[value]\n",
    "    rule = simpleReflexAgent(percept)\n",
    "   \n",
    "    \n",
    "    if \"Sound_alarm\" in rule:\n",
    "        print(\"Alarm sounding...\")\n",
    "    if \"activate_sprinkler\" in rule:\n",
    "        print(\"Sprinkler system activating...\")\n",
    "    if \"call_fire_department\" in rule:\n",
    "        print(\"Fire department called...\")\n",
    "        \n",
    "    count += 1    \n",
    "    \n",
    "    \n"
   ]
  },
  {
   "cell_type": "markdown",
   "metadata": {},
   "source": [
    "# Task 2 "
   ]
  },
  {
   "cell_type": "code",
   "execution_count": 18,
   "metadata": {},
   "outputs": [
    {
     "name": "stdout",
     "output_type": "stream",
     "text": [
      "Watering system activating...\n",
      "Watering system off...\n",
      "Watering system deactivating...\n"
     ]
    }
   ],
   "source": [
    "\n",
    "\n",
    "def getState(percept_value):\n",
    "    if percept_value == \"Dry soil\":\n",
    "        return \"Dry\"\n",
    "    elif percept_value == \"Moist soil\":\n",
    "        return \"Moist\"\n",
    "    else:\n",
    "        return \"Wet\"\n",
    "\n",
    "def getRules(state_value):\n",
    "    if state_value == \"Dry\":\n",
    "        return \"Activate watering system\"\n",
    "    elif state_value == \"Moist\":\n",
    "        return \"Keep watering system off\"\n",
    "    else:\n",
    "        return \"Deactivate watering system\"\n",
    "\n",
    "\n",
    "def simpleReflexAgent(percep):\n",
    "    state = getState(percep)\n",
    "    rule = getRules(state)\n",
    "    return rule\n",
    "\n",
    "count = 0\n",
    "\n",
    "percept_values = [\"Dry soil\", \"Moist soil\", \"Wet soil\"]\n",
    "\n",
    "while count < 3:  # testing for 3 inputs\n",
    "    value = int(input(\"Enter percept : \\n  0 for Dry soil \\n | 1 for Moist soil | 2 for Wet soil \\n\"))\n",
    "    percept = percept_values[value]\n",
    "    rule = simpleReflexAgent(percept)\n",
    "\n",
    "    if \"Activate watering system\" in rule:\n",
    "        print(\"Watering system activating...\")\n",
    "    elif \"Keep watering system off\" in rule:\n",
    "        print(\"Watering system off...\")\n",
    "    elif \"Deactivate watering system\" in rule:\n",
    "        print(\"Watering system deactivating...\")\n",
    "\n",
    "    count += 1\n",
    "    "
   ]
  },
  {
   "cell_type": "code",
   "execution_count": 17,
   "metadata": {},
   "outputs": [
    {
     "name": "stdout",
     "output_type": "stream",
     "text": [
      "Moisture level is low. Activating watering system...\n",
      " _____________________ \n",
      "Moisture level is optimal. Keeping watering system off...\n",
      " _____________________ \n",
      "Moisture level is high. Deactivating watering system...\n",
      " _____________________ \n",
      "Invalid moisture level value.\n",
      " _____________________ \n"
     ]
    }
   ],
   "source": [
    "\n",
    "# # practice \n",
    "\n",
    "# moisture_levels = [\"Dry soil\", \"Moist soil\", \"Wet soil\", \"Invalid level\"]\n",
    "\n",
    "# def watering_system(moisture_level):\n",
    "#     if moisture_level == \"Dry soil\":\n",
    "#         print(\"Moisture level is low. Activating watering system...\")\n",
    "        \n",
    "#     elif moisture_level == \"Moist soil\":\n",
    "#         print(\"Moisture level is optimal. Keeping watering system off...\")\n",
    "        \n",
    "#     elif moisture_level == \"Wet soil\":\n",
    "#         print(\"Moisture level is high. Deactivating watering system...\")\n",
    "       \n",
    "#     else:\n",
    "#         print(\"Invalid moisture level value.\")\n",
    "\n",
    "\n",
    "# for i in moisture_levels:\n",
    "#     watering_system(i)\n",
    "#     print(\" _____________________\")\n",
    "\n"
   ]
  },
  {
   "cell_type": "code",
   "execution_count": null,
   "metadata": {},
   "outputs": [],
   "source": []
  }
 ],
 "metadata": {
  "kernelspec": {
   "display_name": "Python 3",
   "language": "python",
   "name": "python3"
  },
  "language_info": {
   "codemirror_mode": {
    "name": "ipython",
    "version": 3
   },
   "file_extension": ".py",
   "mimetype": "text/x-python",
   "name": "python",
   "nbconvert_exporter": "python",
   "pygments_lexer": "ipython3",
   "version": "3.10.12"
  }
 },
 "nbformat": 4,
 "nbformat_minor": 2
}
